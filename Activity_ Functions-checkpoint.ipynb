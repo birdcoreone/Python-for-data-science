{
  "metadata": {
    "kernelspec": {
      "name": "python",
      "display_name": "Python (Pyodide)",
      "language": "python"
    },
    "language_info": {
      "codemirror_mode": {
        "name": "python",
        "version": 3
      },
      "file_extension": ".py",
      "mimetype": "text/x-python",
      "name": "python",
      "nbconvert_exporter": "python",
      "pygments_lexer": "ipython3",
      "version": "3.8"
    },
    "colab": {
      "provenance": [],
      "toc_visible": true
    }
  },
  "nbformat_minor": 4,
  "nbformat": 4,
  "cells": [
    {
      "cell_type": "markdown",
      "source": "<h1>Activity: Functions</h1>",
      "metadata": {
        "id": "XhsOK4sU-hwF"
      }
    },
    {
      "cell_type": "markdown",
      "source": "## Introduction \n\nIn this lab, you will practice defining functions and returning values, writing clean code, and using comments to scaffold code.\n\nAs a data professional, you'll often need to reuse the same block of code more than once when you're writing Python code to automate a certain task. This is why functions are important. You can call functions whenever you need the computer to execute those steps. Python has built-in functions that have already been defined and also provides tools for users to define their own functions.\n\nIn this lab, you'll define and call a function that calculates the revenue a theater makes depending on the number of tickets sold, then test the function with a new value.\n",
      "metadata": {
        "id": "p44i56Cl-hwG"
      }
    },
    {
      "cell_type": "markdown",
      "source": "## Tips for completing this lab\n\nAs you navigate this lab, keep the following tips in mind:\n\n- `### YOUR CODE HERE ###` indicates where you should write code. Be sure to replace this with your own code before running the code cell.\n- Feel free to open the hints for additional guidance as you work on each task.\n- To enter your answer to a question, double-click the markdown cell to edit. Be sure to replace the \"[Double-click to enter your responses here.]\" with your own answer.\n- You can save your work manually by clicking File and then Save in the menu bar at the top of the notebook.\n- You can download your work locally by clicking File and then Download and then specifying your preferred file format in the menu bar at the top of the notebook.\n",
      "metadata": {
        "id": "W3FWqR7i-hwH"
      }
    },
    {
      "cell_type": "markdown",
      "source": "## Task 1: Analyze a function\n\nIn your work as a data analyst for a movie theater, you're asked to quickly calculate how much the theater has made in sales so far.\n\nIn the following cell, analyze the function named `total_sales` and make note of your observations.\n\nYou do not need to run this cell, but if you do it will not produce an output.",
      "metadata": {
        "id": "xbX_PD6J-hwH"
      }
    },
    {
      "cell_type": "code",
      "source": "# Define a function named `total_sales`\ndef total_sales():\n\n    # Return a value\n    return",
      "metadata": {
        "id": "ucfgn-v4-hwH",
        "trusted": true
      },
      "outputs": [],
      "execution_count": 1
    },
    {
      "cell_type": "markdown",
      "source": "<details>\n  <summary><h4><strong>Hint 1</strong></h4></summary>\n\nYou can refer back to what you've learned about functions.\n\n</details>",
      "metadata": {
        "id": "IHDaBz2d-hwI"
      }
    },
    {
      "cell_type": "markdown",
      "source": "<details>\n  <summary><h4><strong>Hint 2</strong></h4></summary>\n\nWhen analyzing the function definition, make sure to observe the function body, which is the indented block of code after the function header.\n\n</details>",
      "metadata": {
        "id": "4t5JftFD-hwI"
      }
    },
    {
      "cell_type": "markdown",
      "source": "<details>\n  <summary><h4><strong>Hint 3</strong></h4></summary>\n\nNotice that the code comments on each line clearly explain how the function operates.\n\nCode comments can also be used to scaffold code as you build it, since Python will not interact with the text captured as a comment.\n\n</details>",
      "metadata": {
        "id": "8z6Mqjm--hwI"
      }
    },
    {
      "cell_type": "markdown",
      "source": "## Task 2: Add a parameter and calculations to the function\n\nAs you continue refining your code, imagine that the price of tickets is $7.99. Now you will need to add a parameter to the function definition and the calculation to the function body.\n\n",
      "metadata": {
        "id": "jWGW2DeM-hwJ"
      }
    },
    {
      "cell_type": "markdown",
      "source": "### 2a: Add a calculation to the function\n\nIn this task, update the `total_sales` function so it returns the value of the number of tickets `n` multiplied by the price `7.99`.",
      "metadata": {
        "id": "MNsz5GOI-hwJ"
      }
    },
    {
      "cell_type": "code",
      "source": "### YOUR CODE HERE ###\n# Define a function named `total_sales`\ndef total_sales(n):\n    \n\n    # Return a value\n    return n * 7.99",
      "metadata": {
        "id": "XisiWnjN-hwJ",
        "trusted": true
      },
      "outputs": [],
      "execution_count": 7
    },
    {
      "cell_type": "markdown",
      "source": "### 2b: Call the function\n\nWith the calculations added to the `total_sales` function, test it with a value of `59`.\n\n*Example:*\n\n```\n[IN]  total_sales(59)\n[OUT] 471.41\n```",
      "metadata": {
        "id": "mLho0ga--hwJ"
      }
    },
    {
      "cell_type": "code",
      "source": "### YOUR CODE HERE ###\ntotal_sales(59)",
      "metadata": {
        "id": "noiw4TZ2-hwJ",
        "trusted": true
      },
      "outputs": [
        {
          "execution_count": 8,
          "output_type": "execute_result",
          "data": {
            "text/plain": "471.41"
          },
          "metadata": {}
        }
      ],
      "execution_count": 8
    },
    {
      "cell_type": "markdown",
      "source": "<details>\n  <summary><h4><strong>Hint 1</strong></h4></summary>\n\nYou can refer back to what you learned about functions and arithmetic operators.\n\n</details>",
      "metadata": {
        "id": "fYOI2RHH-hwL"
      }
    },
    {
      "cell_type": "markdown",
      "source": "<details>\n  <summary><h4><strong>Hint 2</strong></h4></summary>\n\nTo create a function, use the `def` keyword to define the function, then write the name of the function, followed by parentheses and a colon: `():`. This set of parentheses is where a parameter would be added.\n\nThe body of the function begins on the next line and is indented, conventionally by four spaces. This is where to write the function's operations (such as arithmetic calculations) and a `return` statement.\n\nTo call a function, type the function name followed by parentheses, with a parameter in the parentheses.\n\n</details>",
      "metadata": {
        "id": "4c0MTgRM-hwL"
      }
    },
    {
      "cell_type": "markdown",
      "source": "<details>\n  <summary><h4><strong>Hint 3</strong></h4></summary>\n\nAfter defining the `total_sales` function, add a parameter `n` to the function.\n\nIn the body of the function, multiply the parameter by the ticket price to get total sales.\n\nTo call the function, replace `n` with the number of tickets in the function's parenthesis, then run the cell.\n\n</details>",
      "metadata": {
        "id": "TlZ2OFnA-hwL"
      }
    },
    {
      "cell_type": "markdown",
      "source": "# Task 3: Create a function that accepts two values\n\nYou learn that the price of tickets is more expensive for opening night, and now you need to create a function that will accept two values and return their total value.",
      "metadata": {
        "id": "8TQyh5aT-hwL"
      }
    },
    {
      "cell_type": "markdown",
      "source": "### 3a: Refine the `total_sales` function\n\n*  Update your `total_sales` function so it accepts two parameters:\n    * `price` for the price per ticket\n    * `num_tickets` for the total number of tickets.\n\n* Return the product of the two arguments. Use the Python `round()` function to round the returned value to two decimal places. Refer to the [round() Python documentation](https://docs.python.org/3/library/functions.html#round) for more information regarding this function.",
      "metadata": {
        "id": "X4E5T6X9-hwL"
      }
    },
    {
      "cell_type": "code",
      "source": "### YOUR CODE HERE ###\n# function of total sales with 2 parameters\ndef total_sales(price, num_tickets):\n\n    #return product in 2 decimals\n    return round((price * num_tickets), 2)\n",
      "metadata": {
        "id": "W1syLfyl-hwM",
        "trusted": true
      },
      "outputs": [],
      "execution_count": 16
    },
    {
      "cell_type": "markdown",
      "source": "### 3b: Call the function\n\nThen, call the function with the value of `15.99` for `price` and `1001` for the number of tickets sold (`num_tickets`).\n\nExample:\n\n```\n[IN]  total_sales(15.99, 1001)\n[OUT] 16005.99\n```",
      "metadata": {
        "id": "6D0whKnN-hwM"
      }
    },
    {
      "cell_type": "code",
      "source": "### YOUR CODE HERE ###\ntotal_sales(15.99, 1001)",
      "metadata": {
        "id": "0QEF1aJw-hwM",
        "trusted": true
      },
      "outputs": [
        {
          "execution_count": 17,
          "output_type": "execute_result",
          "data": {
            "text/plain": "16005.99"
          },
          "metadata": {}
        }
      ],
      "execution_count": 17
    },
    {
      "cell_type": "markdown",
      "source": "<details>\n  <summary><h4><strong>Hint 1</strong></h4></summary>\n\nRefer to what you learned about functions, arithmetic operators, and the `round()` function.\n\n</details>",
      "metadata": {
        "id": "xd93S8Q3-hwN"
      }
    },
    {
      "cell_type": "markdown",
      "source": "<details>\n  <summary><h4><strong>Hint 2</strong></h4></summary>\n\nDefining up a function that accepts two parameters is a very similar process to defining a function with just one.\n\nBegin by defining the function and naming it, but instead of a single parameter within the parentheses, place two parameters separated by a comma (`,`).\n\nThe body of the function is still on a new line and indented four spaces. The `round()` function is included here, and the calculation of the two parameters takes place within the `round()` function's parentheses.\n\nWhen calling the new function, type the name of the function followed by a set of parentheses. Then, place the parameters that the function is operating on within the parentheses, separated by a comma.\n\n</details>",
      "metadata": {
        "id": "YDzG6_gh-hwN"
      }
    },
    {
      "cell_type": "markdown",
      "source": "<details>\n  <summary><h4><strong>Hint 3</strong></h4></summary>\n\nDefine a function called `total_sales` that calculates the total dollar value of the tickets sold based on the per-ticket price (`price`), and the number of tickets sold (`num_tickets`).\n\nIn the body of the function, multiply the parameters to get the total and round the calculation to two decimal places.\n\nTo call the function, write the name of the function on a new line and replace the parameters with the price per ticket and number of tickets sold.\n\n</details>",
      "metadata": {
        "id": "YYLt_9Xm-hwN"
      }
    },
    {
      "cell_type": "markdown",
      "source": "# Task 4: Test the function with different values\n\nAs prices and sales fluctate, your function will need to accept different values and still return the total sales.\n\nIn this task, practice calling your function with different values.\n\nExample:\n\n```\n[IN]  total_sales(16.99, 1232)\n[OUT] 20931.68\n\n[IN]  total_sales(10.50, 1472)\n[OUT] 15456.0\n\n[IN]  total_sales(5.00, 349)\n[OUT] 1745.0\n\n```",
      "metadata": {
        "id": "QbNTK2lJ-hwN"
      }
    },
    {
      "cell_type": "code",
      "source": "# Call `total_sales` with 16.99 price and 1232 num_tickets\n### YOUR CODE HERE ###\ntotal_sales(16.99, 1232)",
      "metadata": {
        "id": "5-FAYyBe-hwN",
        "trusted": true
      },
      "outputs": [
        {
          "execution_count": 18,
          "output_type": "execute_result",
          "data": {
            "text/plain": "20931.68"
          },
          "metadata": {}
        }
      ],
      "execution_count": 18
    },
    {
      "cell_type": "code",
      "source": "# Call `total_sales` with 10.50 price and 1472 num_tickets\n### YOUR CODE HERE ###\ntotal_sales(10.50, 1472)",
      "metadata": {
        "id": "DHD5DkK6-hwO",
        "trusted": true
      },
      "outputs": [
        {
          "execution_count": 19,
          "output_type": "execute_result",
          "data": {
            "text/plain": "15456.0"
          },
          "metadata": {}
        }
      ],
      "execution_count": 19
    },
    {
      "cell_type": "code",
      "source": "# Call `total_sales` with 5.00 price and 349 num_tickets\n### YOUR CODE HERE ###\ntotal_sales(5.00, 349)",
      "metadata": {
        "id": "dkWOKCuR-hwO",
        "trusted": true
      },
      "outputs": [
        {
          "execution_count": 20,
          "output_type": "execute_result",
          "data": {
            "text/plain": "1745.0"
          },
          "metadata": {}
        }
      ],
      "execution_count": 20
    },
    {
      "cell_type": "markdown",
      "source": "<details>\n  <summary><h4><strong>Hint 1</strong></h4></summary>\n\nYou can refer to what you've learned about calling functions with multiple parameters.\n\n</details>",
      "metadata": {
        "id": "p_NubEBx-hwO"
      }
    },
    {
      "cell_type": "markdown",
      "source": "<details>\n  <summary><h4><strong>Hint 2</strong></h4></summary>\n\nCall the function by writing the name, followed by parenthesis. Write the two values you want to calculate inside the parenthesis, separated by a comma.\n\n</details>",
      "metadata": {
        "id": "B61eLOgk-hwO"
      }
    },
    {
      "cell_type": "markdown",
      "source": "<details>\n  <summary><h4><strong>Hint 3</strong></h4></summary>\n\nTo run the function and calculate a new total, call `total_sales()` and write `16.99, 1232` inside the parenthesis.\n\n</details>",
      "metadata": {
        "id": "fSDK4WCH-hwP"
      }
    },
    {
      "cell_type": "markdown",
      "source": "# Conclusion\n\n**What are your key takeaways from this lab?**",
      "metadata": {
        "id": "U1MOXazU-hwP"
      }
    },
    {
      "cell_type": "markdown",
      "source": "[Double-click to enter your response.]",
      "metadata": {
        "id": "ep-uvqwi-hwP"
      }
    },
    {
      "cell_type": "markdown",
      "source": "**Congratulations!** You've completed this lab. However, you may not notice a green check mark next to this item on Coursera's platform. Please continue your progress regardless of the check mark. Just click on the \"save\" icon at the top of this notebook to ensure your work has been logged.",
      "metadata": {}
    }
  ]
}