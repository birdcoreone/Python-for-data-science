{
  "nbformat": 4,
  "nbformat_minor": 0,
  "metadata": {
    "colab": {
      "provenance": [],
      "include_colab_link": true
    },
    "kernelspec": {
      "name": "python3",
      "display_name": "Python 3"
    },
    "language_info": {
      "name": "python"
    }
  },
  "cells": [
    {
      "cell_type": "markdown",
      "metadata": {
        "id": "view-in-github",
        "colab_type": "text"
      },
      "source": [
        "<a href=\"https://colab.research.google.com/github/birdcoreone/Python-for-data-science/blob/main/10_HypothesisTestingAnnova_StatisticsProbability.ipynb\" target=\"_parent\"><img src=\"https://colab.research.google.com/assets/colab-badge.svg\" alt=\"Open In Colab\"/></a>"
      ]
    },
    {
      "cell_type": "markdown",
      "metadata": {
        "id": "ZmiGEHa1ONmB"
      },
      "source": [
        "#Hypothesis Testing_Statistics & Probability -  Two-Sample Z test\n"
      ]
    },
    {
      "cell_type": "markdown",
      "metadata": {
        "id": "f88YZuH8O3P2"
      },
      "source": [
        "Null Hypothesis: Temperature doesn’t affect COVID Outbreak\n",
        "\n",
        "Alternate Hypothesis: Temperature does affect COVID Outbreak"
      ]
    },
    {
      "cell_type": "markdown",
      "metadata": {
        "id": "pDOkbJoHOhMI"
      },
      "source": [
        "### Importing the basic libraries"
      ]
    },
    {
      "cell_type": "code",
      "metadata": {
        "id": "9ayLpwGuOIkm"
      },
      "source": [
        "import pandas as pd\n",
        "import numpy as np"
      ],
      "execution_count": 1,
      "outputs": []
    },
    {
      "cell_type": "markdown",
      "metadata": {
        "id": "36RH2chxO_Ju"
      },
      "source": [
        "### Load Dataset from Local Directory"
      ]
    },
    {
      "cell_type": "code",
      "metadata": {
        "id": "tNJOtRhyOt2T",
        "colab": {
          "base_uri": "https://localhost:8080/",
          "height": 73
        },
        "outputId": "cc057c3d-3a0e-4c9e-f5b3-1690adbc26fb"
      },
      "source": [
        "from google.colab import files\n",
        "uploaded = files.upload()"
      ],
      "execution_count": 2,
      "outputs": [
        {
          "output_type": "display_data",
          "data": {
            "text/plain": [
              "<IPython.core.display.HTML object>"
            ],
            "text/html": [
              "\n",
              "     <input type=\"file\" id=\"files-0c5a5615-0270-4248-b326-0f71de722f28\" name=\"files[]\" multiple disabled\n",
              "        style=\"border:none\" />\n",
              "     <output id=\"result-0c5a5615-0270-4248-b326-0f71de722f28\">\n",
              "      Upload widget is only available when the cell has been executed in the\n",
              "      current browser session. Please rerun this cell to enable.\n",
              "      </output>\n",
              "      <script>// Copyright 2017 Google LLC\n",
              "//\n",
              "// Licensed under the Apache License, Version 2.0 (the \"License\");\n",
              "// you may not use this file except in compliance with the License.\n",
              "// You may obtain a copy of the License at\n",
              "//\n",
              "//      http://www.apache.org/licenses/LICENSE-2.0\n",
              "//\n",
              "// Unless required by applicable law or agreed to in writing, software\n",
              "// distributed under the License is distributed on an \"AS IS\" BASIS,\n",
              "// WITHOUT WARRANTIES OR CONDITIONS OF ANY KIND, either express or implied.\n",
              "// See the License for the specific language governing permissions and\n",
              "// limitations under the License.\n",
              "\n",
              "/**\n",
              " * @fileoverview Helpers for google.colab Python module.\n",
              " */\n",
              "(function(scope) {\n",
              "function span(text, styleAttributes = {}) {\n",
              "  const element = document.createElement('span');\n",
              "  element.textContent = text;\n",
              "  for (const key of Object.keys(styleAttributes)) {\n",
              "    element.style[key] = styleAttributes[key];\n",
              "  }\n",
              "  return element;\n",
              "}\n",
              "\n",
              "// Max number of bytes which will be uploaded at a time.\n",
              "const MAX_PAYLOAD_SIZE = 100 * 1024;\n",
              "\n",
              "function _uploadFiles(inputId, outputId) {\n",
              "  const steps = uploadFilesStep(inputId, outputId);\n",
              "  const outputElement = document.getElementById(outputId);\n",
              "  // Cache steps on the outputElement to make it available for the next call\n",
              "  // to uploadFilesContinue from Python.\n",
              "  outputElement.steps = steps;\n",
              "\n",
              "  return _uploadFilesContinue(outputId);\n",
              "}\n",
              "\n",
              "// This is roughly an async generator (not supported in the browser yet),\n",
              "// where there are multiple asynchronous steps and the Python side is going\n",
              "// to poll for completion of each step.\n",
              "// This uses a Promise to block the python side on completion of each step,\n",
              "// then passes the result of the previous step as the input to the next step.\n",
              "function _uploadFilesContinue(outputId) {\n",
              "  const outputElement = document.getElementById(outputId);\n",
              "  const steps = outputElement.steps;\n",
              "\n",
              "  const next = steps.next(outputElement.lastPromiseValue);\n",
              "  return Promise.resolve(next.value.promise).then((value) => {\n",
              "    // Cache the last promise value to make it available to the next\n",
              "    // step of the generator.\n",
              "    outputElement.lastPromiseValue = value;\n",
              "    return next.value.response;\n",
              "  });\n",
              "}\n",
              "\n",
              "/**\n",
              " * Generator function which is called between each async step of the upload\n",
              " * process.\n",
              " * @param {string} inputId Element ID of the input file picker element.\n",
              " * @param {string} outputId Element ID of the output display.\n",
              " * @return {!Iterable<!Object>} Iterable of next steps.\n",
              " */\n",
              "function* uploadFilesStep(inputId, outputId) {\n",
              "  const inputElement = document.getElementById(inputId);\n",
              "  inputElement.disabled = false;\n",
              "\n",
              "  const outputElement = document.getElementById(outputId);\n",
              "  outputElement.innerHTML = '';\n",
              "\n",
              "  const pickedPromise = new Promise((resolve) => {\n",
              "    inputElement.addEventListener('change', (e) => {\n",
              "      resolve(e.target.files);\n",
              "    });\n",
              "  });\n",
              "\n",
              "  const cancel = document.createElement('button');\n",
              "  inputElement.parentElement.appendChild(cancel);\n",
              "  cancel.textContent = 'Cancel upload';\n",
              "  const cancelPromise = new Promise((resolve) => {\n",
              "    cancel.onclick = () => {\n",
              "      resolve(null);\n",
              "    };\n",
              "  });\n",
              "\n",
              "  // Wait for the user to pick the files.\n",
              "  const files = yield {\n",
              "    promise: Promise.race([pickedPromise, cancelPromise]),\n",
              "    response: {\n",
              "      action: 'starting',\n",
              "    }\n",
              "  };\n",
              "\n",
              "  cancel.remove();\n",
              "\n",
              "  // Disable the input element since further picks are not allowed.\n",
              "  inputElement.disabled = true;\n",
              "\n",
              "  if (!files) {\n",
              "    return {\n",
              "      response: {\n",
              "        action: 'complete',\n",
              "      }\n",
              "    };\n",
              "  }\n",
              "\n",
              "  for (const file of files) {\n",
              "    const li = document.createElement('li');\n",
              "    li.append(span(file.name, {fontWeight: 'bold'}));\n",
              "    li.append(span(\n",
              "        `(${file.type || 'n/a'}) - ${file.size} bytes, ` +\n",
              "        `last modified: ${\n",
              "            file.lastModifiedDate ? file.lastModifiedDate.toLocaleDateString() :\n",
              "                                    'n/a'} - `));\n",
              "    const percent = span('0% done');\n",
              "    li.appendChild(percent);\n",
              "\n",
              "    outputElement.appendChild(li);\n",
              "\n",
              "    const fileDataPromise = new Promise((resolve) => {\n",
              "      const reader = new FileReader();\n",
              "      reader.onload = (e) => {\n",
              "        resolve(e.target.result);\n",
              "      };\n",
              "      reader.readAsArrayBuffer(file);\n",
              "    });\n",
              "    // Wait for the data to be ready.\n",
              "    let fileData = yield {\n",
              "      promise: fileDataPromise,\n",
              "      response: {\n",
              "        action: 'continue',\n",
              "      }\n",
              "    };\n",
              "\n",
              "    // Use a chunked sending to avoid message size limits. See b/62115660.\n",
              "    let position = 0;\n",
              "    do {\n",
              "      const length = Math.min(fileData.byteLength - position, MAX_PAYLOAD_SIZE);\n",
              "      const chunk = new Uint8Array(fileData, position, length);\n",
              "      position += length;\n",
              "\n",
              "      const base64 = btoa(String.fromCharCode.apply(null, chunk));\n",
              "      yield {\n",
              "        response: {\n",
              "          action: 'append',\n",
              "          file: file.name,\n",
              "          data: base64,\n",
              "        },\n",
              "      };\n",
              "\n",
              "      let percentDone = fileData.byteLength === 0 ?\n",
              "          100 :\n",
              "          Math.round((position / fileData.byteLength) * 100);\n",
              "      percent.textContent = `${percentDone}% done`;\n",
              "\n",
              "    } while (position < fileData.byteLength);\n",
              "  }\n",
              "\n",
              "  // All done.\n",
              "  yield {\n",
              "    response: {\n",
              "      action: 'complete',\n",
              "    }\n",
              "  };\n",
              "}\n",
              "\n",
              "scope.google = scope.google || {};\n",
              "scope.google.colab = scope.google.colab || {};\n",
              "scope.google.colab._files = {\n",
              "  _uploadFiles,\n",
              "  _uploadFilesContinue,\n",
              "};\n",
              "})(self);\n",
              "</script> "
            ]
          },
          "metadata": {}
        },
        {
          "output_type": "stream",
          "name": "stdout",
          "text": [
            "Saving dataset.csv to dataset.csv\n"
          ]
        }
      ]
    },
    {
      "cell_type": "code",
      "metadata": {
        "id": "nICV2qMLPEXP",
        "colab": {
          "base_uri": "https://localhost:8080/"
        },
        "outputId": "116c5f37-171b-4617-ab96-b69c7ee24397"
      },
      "source": [
        "dataset = pd.read_csv('dataset.csv')\n",
        "print(dataset.shape)\n",
        "print(dataset.head(5))"
      ],
      "execution_count": 3,
      "outputs": [
        {
          "output_type": "stream",
          "name": "stdout",
          "text": [
            "(206, 12)\n",
            "  Province/State              Country/Region          Last Update  Confirmed  \\\n",
            "0          Hubei              Mainland China  2020-03-10T15:13:05      67760   \n",
            "1            NaN                       Italy  2020-03-10T17:53:02      10149   \n",
            "2            NaN  Iran (Islamic Republic of)  2020-03-10T19:13:20       8042   \n",
            "3            NaN           Republic of Korea  2020-03-10T19:13:20       7513   \n",
            "4            NaN                      France  2020-03-10T18:53:02       1784   \n",
            "\n",
            "   Deaths  Recovered  Latitude  Longitude  Temprature  Humidity  Temp_Cat  \\\n",
            "0    3024      47743   30.9756   112.2707        12.5        86         1   \n",
            "1     631        724   43.0000    12.0000        12.9        64         1   \n",
            "2     291       2731   32.0000    53.0000        11.9         9         0   \n",
            "3      54        247   36.0000   128.0000         4.9        41         0   \n",
            "4      33         12   47.0000     2.0000        11.9        93         0   \n",
            "\n",
            "   Humid_Cat  \n",
            "0          1  \n",
            "1          1  \n",
            "2          0  \n",
            "3          0  \n",
            "4          0  \n"
          ]
        }
      ]
    },
    {
      "cell_type": "markdown",
      "metadata": {
        "id": "VbRE9t1XRNXB"
      },
      "source": [
        "### Considering Temperature below 24 as Cold Climate and above 24 as Hot Climate in our dataset"
      ]
    },
    {
      "cell_type": "code",
      "metadata": {
        "id": "f48HcSsJPwR-",
        "colab": {
          "base_uri": "https://localhost:8080/"
        },
        "outputId": "b1f61dd8-9a20-4524-adb1-5d4b8f7be51a"
      },
      "source": [
        "dataset['Temp_Cat'] = dataset['Temprature'].apply(lambda x : 0 if x < 24 else 1)\n",
        "datasetModified = dataset[['Confirmed', 'Temp_Cat']]\n",
        "print(datasetModified.head(5))"
      ],
      "execution_count": 4,
      "outputs": [
        {
          "output_type": "stream",
          "name": "stdout",
          "text": [
            "   Confirmed  Temp_Cat\n",
            "0      67760         0\n",
            "1      10149         0\n",
            "2       8042         0\n",
            "3       7513         0\n",
            "4       1784         0\n"
          ]
        }
      ]
    },
    {
      "cell_type": "code",
      "metadata": {
        "id": "pxCsuDfEPQfg"
      },
      "source": [
        "d1 = datasetModified[(datasetModified['Temp_Cat']==1)]['Confirmed']\n",
        "d2 = datasetModified[(datasetModified['Temp_Cat']==0)]['Confirmed']\n",
        "\n",
        "m1, m2 = d1.mean(), d2.mean()\n",
        "sd1, sd2 = d1.std(), d2.std()\n",
        "n1, n2 = d1.shape[0], d2.shape[0]"
      ],
      "execution_count": 5,
      "outputs": []
    },
    {
      "cell_type": "code",
      "metadata": {
        "id": "38ScWe32PThM"
      },
      "source": [
        "from numpy import sqrt, abs, round\n",
        "from scipy.stats import norm\n",
        "def model(X1, X2, sigma1, sigma2, N1, N2): #Two sample Z test\n",
        "    ovr_sigma = sqrt(sigma1**2/N1 + sigma2**2/N2)\n",
        "    z = (X1 - X2)/ovr_sigma\n",
        "    pval = 2*(1 - norm.cdf(abs(z)))\n",
        "    return z, pval\n",
        "z, p = model(m1, m2, sd1, sd2, n1, n2)"
      ],
      "execution_count": 6,
      "outputs": []
    },
    {
      "cell_type": "code",
      "metadata": {
        "id": "9aNsi1jXPYvF",
        "colab": {
          "base_uri": "https://localhost:8080/"
        },
        "outputId": "1ca6de8f-eff8-4ad5-926b-246919427697"
      },
      "source": [
        "z_score = np.round(z,8)\n",
        "p_val = np.round(p,6)\n",
        "\n",
        "if (p_val<0.05):\n",
        "    Hypothesis_Status = 'Reject Null Hypothesis : Significant'\n",
        "else:\n",
        "    Hypothesis_Status = 'Do not reject Null Hypothesis : Not Significant'\n",
        "\n",
        "print (p_val)\n",
        "print (Hypothesis_Status)"
      ],
      "execution_count": 7,
      "outputs": [
        {
          "output_type": "stream",
          "name": "stdout",
          "text": [
            "0.102054\n",
            "Do not reject Null Hypothesis : Not Significant\n"
          ]
        }
      ]
    }
  ]
}